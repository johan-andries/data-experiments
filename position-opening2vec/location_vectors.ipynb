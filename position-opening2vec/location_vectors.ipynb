{
 "cells": [
  {
   "cell_type": "code",
   "execution_count": 1,
   "metadata": {
    "collapsed": true
   },
   "outputs": [],
   "source": [
    "import gzip\n",
    "import itertools\n",
    "import collections\n",
    "import numpy as np\n",
    "import item2vec"
   ]
  },
  {
   "cell_type": "code",
   "execution_count": 2,
   "metadata": {
    "collapsed": true
   },
   "outputs": [],
   "source": [
    "np.random.seed(101)"
   ]
  },
  {
   "cell_type": "code",
   "execution_count": 3,
   "metadata": {
    "collapsed": true
   },
   "outputs": [],
   "source": [
    "list_of_sessions_with_position_opening_ids = []\n",
    "with gzip.open('data/view_position_opening_sessions.txt.gz', 'rb') as f:\n",
    "    for line in f:\n",
    "        list_of_sessions_with_position_opening_ids.append(list(set(line.strip().split())))"
   ]
  },
  {
   "cell_type": "code",
   "execution_count": 4,
   "metadata": {
    "collapsed": true
   },
   "outputs": [],
   "source": [
    "postion_opening_id_2_location_name = {}\n",
    "with gzip.open('data/postion_opening_categorical_variables.csv.gz', 'rb') as f:\n",
    "    for line in f:\n",
    "        vac_id, _, location_name = line.strip().split(\",\")\n",
    "        postion_opening_id_2_location_name[vac_id] = location_name"
   ]
  },
  {
   "cell_type": "code",
   "execution_count": 5,
   "metadata": {
    "collapsed": true
   },
   "outputs": [],
   "source": [
    "list_of_sessions_with_location_names_unfiltered = \\\n",
    "    [set(map(lambda pos_opening_id: postion_opening_id_2_location_name[pos_opening_id], session) )\n",
    "         for session in list_of_sessions_with_position_opening_ids]"
   ]
  },
  {
   "cell_type": "code",
   "execution_count": 6,
   "metadata": {
    "collapsed": true
   },
   "outputs": [],
   "source": [
    "list_of_sessions_with_location_names_flattened = \\\n",
    "    itertools.chain.from_iterable(list_of_sessions_with_location_names_unfiltered)"
   ]
  },
  {
   "cell_type": "code",
   "execution_count": 7,
   "metadata": {
    "collapsed": false
   },
   "outputs": [],
   "source": [
    "frequently_viewed_locations = [location_name for location_name, count in \\\n",
    "     collections.Counter(list_of_sessions_with_location_names_flattened).items() if count > 200]"
   ]
  },
  {
   "cell_type": "code",
   "execution_count": 8,
   "metadata": {
    "collapsed": true
   },
   "outputs": [],
   "source": [
    "location_name_to_index = dict(zip(frequently_viewed_locations, range(len(frequently_viewed_locations))))"
   ]
  },
  {
   "cell_type": "code",
   "execution_count": 9,
   "metadata": {
    "collapsed": true
   },
   "outputs": [],
   "source": [
    "list_of_sessions_with_location_indices = []\n",
    "for session in list_of_sessions_with_location_names_unfiltered:\n",
    "    only_frequently_viewed_in_session = session.intersection(frequently_viewed_locations)\n",
    "    if len(only_frequently_viewed_in_session) > 1:\n",
    "        list_of_sessions_with_location_indices.append(\n",
    "            map(lambda location_name: location_name_to_index[location_name], list(only_frequently_viewed_in_session))\n",
    "        )"
   ]
  },
  {
   "cell_type": "code",
   "execution_count": 10,
   "metadata": {
    "collapsed": false
   },
   "outputs": [
    {
     "name": "stdout",
     "output_type": "stream",
     "text": [
      "2016-09-09 16:03:41.279313 Average loss at step 0: 191.926345825\n",
      "\n",
      "2016-09-09 16:06:02.716560 Average loss at step 20000: 4.12253415415\n",
      "\n",
      "2016-09-09 16:08:22.346069 Average loss at step 40000: 3.55853750117\n",
      "\n",
      "2016-09-09 16:10:47.872898 Average loss at step 60000: 3.54658460959\n",
      "\n",
      "2016-09-09 16:13:13.622302 Average loss at step 80000: 3.53928644782\n",
      "\n",
      "2016-09-09 16:15:38.641889 Average loss at step 100000: 3.53617465142\n",
      "\n",
      "2016-09-09 16:18:04.482675 Average loss at step 120000: 3.53224128134\n",
      "\n",
      "2016-09-09 16:20:30.840844 Average loss at step 140000: 3.53035159198\n",
      "\n",
      "2016-09-09 16:22:55.308304 Average loss at step 160000: 3.528927601\n",
      "\n",
      "2016-09-09 16:25:14.637997 Average loss at step 180000: 3.52931641765\n",
      "\n",
      "2016-09-09 16:27:37.995939 Average loss at step 200000: 3.52876839567\n",
      "\n",
      "2016-09-09 16:29:59.223364 Average loss at step 220000: 3.52790833496\n",
      "\n",
      "2016-09-09 16:32:19.822820 Average loss at step 240000: 3.52827636063\n",
      "\n",
      "2016-09-09 16:34:39.572953 Average loss at step 260000: 3.52589493797\n",
      "\n",
      "2016-09-09 16:36:58.068257 Average loss at step 280000: 3.52449259816\n",
      "\n",
      "2016-09-09 16:39:16.189434 Average loss at step 300000: 3.52427948246\n",
      "\n",
      "2016-09-09 16:41:39.095324 Average loss at step 320000: 3.52277514919\n",
      "\n",
      "2016-09-09 16:43:57.337412 Average loss at step 340000: 3.52372467991\n",
      "\n",
      "2016-09-09 16:46:21.262179 Average loss at step 360000: 3.5211983761\n",
      "\n",
      "2016-09-09 16:48:44.276361 Average loss at step 380000: 3.52407722836\n",
      "\n",
      "2016-09-09 16:51:03.703099 Average loss at step 400000: 3.52409390768\n",
      "\n",
      "2016-09-09 16:53:22.281034 Average loss at step 420000: 3.52118962266\n",
      "\n",
      "2016-09-09 16:55:46.174832 Average loss at step 440000: 3.52297553306\n",
      "\n",
      "2016-09-09 16:58:20.695974 Average loss at step 460000: 3.52335663141\n",
      "\n",
      "2016-09-09 17:00:40.182529 Average loss at step 480000: 3.52207386893\n",
      "\n",
      "2016-09-09 17:03:01.261622 Average loss at step 500000: 3.5231700241\n",
      "\n",
      "2016-09-09 17:05:20.034693 Average loss at step 520000: 3.52015685856\n",
      "\n",
      "2016-09-09 17:07:38.857609 Average loss at step 540000: 3.5238054087\n",
      "\n",
      "2016-09-09 17:10:00.347238 Average loss at step 560000: 3.52356249758\n",
      "\n",
      "2016-09-09 17:12:17.607117 Average loss at step 580000: 3.52332293549\n",
      "\n",
      "2016-09-09 17:14:40.959069 Average loss at step 600000: 3.51994599702\n",
      "\n",
      "2016-09-09 17:17:04.448210 Average loss at step 620000: 3.51866870985\n",
      "\n",
      "2016-09-09 17:19:26.482411 Average loss at step 640000: 3.5190994827\n",
      "\n",
      "2016-09-09 17:21:44.067725 Average loss at step 660000: 3.52046821408\n",
      "\n",
      "2016-09-09 17:24:01.356786 Average loss at step 680000: 3.52033028643\n",
      "\n",
      "2016-09-09 17:26:23.026995 Average loss at step 700000: 3.52289807901\n",
      "\n",
      "2016-09-09 17:28:46.269321 Average loss at step 720000: 3.51911323829\n",
      "\n",
      "2016-09-09 17:31:09.684438 Average loss at step 740000: 3.51843560983\n",
      "\n"
     ]
    }
   ],
   "source": [
    "batch_size = 128\n",
    "next_batch = item2vec.create_batch_generator(list_of_sessions_with_location_indices, batch_size)\n",
    "x = item2vec.run(750001, next_batch, 0.5, batch_size, 100, len(frequently_viewed_locations), 15)"
   ]
  },
  {
   "cell_type": "code",
   "execution_count": 11,
   "metadata": {
    "collapsed": false
   },
   "outputs": [],
   "source": [
    "with open(\"work/location_vectors.csv\",\"w\") as f:\n",
    "    for i in range(x.shape[0]):\n",
    "        f.write(str(frequently_viewed_locations[i]) + \",\")\n",
    "        f.write(\",\".join(map(str,x[i])))\n",
    "        f.write(\"\\n\")"
   ]
  },
  {
   "cell_type": "code",
   "execution_count": null,
   "metadata": {
    "collapsed": true
   },
   "outputs": [],
   "source": []
  }
 ],
 "metadata": {
  "kernelspec": {
   "display_name": "Python 2",
   "language": "python",
   "name": "python2"
  },
  "language_info": {
   "codemirror_mode": {
    "name": "ipython",
    "version": 2
   },
   "file_extension": ".py",
   "mimetype": "text/x-python",
   "name": "python",
   "nbconvert_exporter": "python",
   "pygments_lexer": "ipython2",
   "version": "2.7.12"
  }
 },
 "nbformat": 4,
 "nbformat_minor": 0
}
