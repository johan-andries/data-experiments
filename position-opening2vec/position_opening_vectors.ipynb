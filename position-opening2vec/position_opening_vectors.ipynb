{
 "cells": [
  {
   "cell_type": "code",
   "execution_count": 1,
   "metadata": {
    "collapsed": false
   },
   "outputs": [],
   "source": [
    "import gzip\n",
    "import itertools\n",
    "import numpy as np\n",
    "import item2vec"
   ]
  },
  {
   "cell_type": "code",
   "execution_count": 2,
   "metadata": {
    "collapsed": true
   },
   "outputs": [],
   "source": [
    "np.random.seed(0)"
   ]
  },
  {
   "cell_type": "code",
   "execution_count": 3,
   "metadata": {
    "collapsed": false
   },
   "outputs": [],
   "source": [
    "list_of_sessions_with_position_opening_ids = []\n",
    "with gzip.open('data/view_position_opening_sessions.txt.gz', 'rb') as f:\n",
    "    for line in f:\n",
    "        list_of_sessions_with_position_opening_ids.append(list(set(line.strip().split())))"
   ]
  },
  {
   "cell_type": "code",
   "execution_count": 4,
   "metadata": {
    "collapsed": false
   },
   "outputs": [
    {
     "data": {
      "text/plain": [
       "[['55001116',\n",
       "  '55006994',\n",
       "  '54610175',\n",
       "  '54878060',\n",
       "  '54972083',\n",
       "  '54831694',\n",
       "  '54974917'],\n",
       " ['54993874', '54853221', '54982313', '54830840', '54985435', '54956129'],\n",
       " ['54994470', '54970845', '54947354', '54997521', '54969819', '54977232'],\n",
       " ['55021512', '55018304', '55067840', '55005260'],\n",
       " ['54844877', '54985796']]"
      ]
     },
     "execution_count": 4,
     "metadata": {},
     "output_type": "execute_result"
    }
   ],
   "source": [
    "list_of_sessions_with_position_opening_ids[:5]"
   ]
  },
  {
   "cell_type": "code",
   "execution_count": 5,
   "metadata": {
    "collapsed": false
   },
   "outputs": [],
   "source": [
    "unique_position_opening_ids = list(set(itertools.chain.from_iterable(list_of_sessions_with_position_opening_ids)))"
   ]
  },
  {
   "cell_type": "code",
   "execution_count": 6,
   "metadata": {
    "collapsed": true
   },
   "outputs": [],
   "source": [
    "position_opening_id_to_index = dict(zip(unique_position_opening_ids, range(len(unique_position_opening_ids))))"
   ]
  },
  {
   "cell_type": "code",
   "execution_count": 7,
   "metadata": {
    "collapsed": false
   },
   "outputs": [
    {
     "data": {
      "text/plain": [
       "(77808,\n",
       " 2,\n",
       " ['55030629',\n",
       "  '52184710',\n",
       "  '54907281',\n",
       "  '54943188',\n",
       "  '55030624',\n",
       "  '55030627',\n",
       "  '55030626',\n",
       "  '55030621',\n",
       "  '55030623',\n",
       "  '55026515'])"
      ]
     },
     "execution_count": 7,
     "metadata": {},
     "output_type": "execute_result"
    }
   ],
   "source": [
    "len(unique_position_opening_ids), position_opening_id_to_index['54907281'], unique_position_opening_ids[:10]"
   ]
  },
  {
   "cell_type": "code",
   "execution_count": 8,
   "metadata": {
    "collapsed": false
   },
   "outputs": [],
   "source": [
    "list_of_sessions_with_position_opening_indices = \\\n",
    "    map(lambda session: map(lambda pos_opening_id: position_opening_id_to_index[pos_opening_id], session),\n",
    "        list_of_sessions_with_position_opening_ids)"
   ]
  },
  {
   "cell_type": "code",
   "execution_count": 9,
   "metadata": {
    "collapsed": false
   },
   "outputs": [
    {
     "data": {
      "text/plain": [
       "(['55001116',\n",
       "  '55006994',\n",
       "  '54610175',\n",
       "  '54878060',\n",
       "  '54972083',\n",
       "  '54831694',\n",
       "  '54974917'],\n",
       " [39958, 56279, 14242, 63613, 63095, 10438, 67862])"
      ]
     },
     "execution_count": 9,
     "metadata": {},
     "output_type": "execute_result"
    }
   ],
   "source": [
    "list_of_sessions_with_position_opening_ids[0], list_of_sessions_with_position_opening_indices[0]"
   ]
  },
  {
   "cell_type": "code",
   "execution_count": 10,
   "metadata": {
    "collapsed": false
   },
   "outputs": [
    {
     "name": "stdout",
     "output_type": "stream",
     "text": [
      "2016-09-05 11:45:01.624763 Average loss at step 0: 551.543823242\n",
      "\n",
      "2016-09-05 11:47:45.655889 Average loss at step 20000: 124.906044332\n",
      "\n",
      "2016-09-05 11:50:28.104291 Average loss at step 40000: 8.75113421941\n",
      "\n",
      "2016-09-05 11:53:11.454329 Average loss at step 60000: 4.76997682325\n",
      "\n",
      "2016-09-05 11:55:50.273653 Average loss at step 80000: 4.31916299645\n",
      "\n",
      "2016-09-05 11:58:29.489185 Average loss at step 100000: 4.1991542523\n",
      "\n",
      "2016-09-05 12:01:10.362351 Average loss at step 120000: 4.1365043172\n",
      "\n",
      "2016-09-05 12:03:48.218587 Average loss at step 140000: 4.08258214914\n",
      "\n",
      "2016-09-05 12:06:26.630278 Average loss at step 160000: 4.03142139287\n",
      "\n",
      "2016-09-05 12:09:06.301930 Average loss at step 180000: 3.97392384667\n",
      "\n",
      "2016-09-05 12:11:43.115988 Average loss at step 200000: 3.90534792768\n",
      "\n",
      "2016-09-05 12:14:13.286445 Average loss at step 220000: 3.83334881779\n",
      "\n",
      "2016-09-05 12:16:48.789917 Average loss at step 240000: 3.76661976966\n",
      "\n",
      "2016-09-05 12:19:26.326510 Average loss at step 260000: 3.68875356784\n",
      "\n",
      "2016-09-05 12:22:03.790738 Average loss at step 280000: 3.6166567124\n",
      "\n",
      "2016-09-05 12:24:40.864607 Average loss at step 300000: 3.53869934427\n",
      "\n",
      "2016-09-05 12:27:19.063251 Average loss at step 320000: 3.46854937484\n",
      "\n",
      "2016-09-05 12:29:54.426090 Average loss at step 340000: 3.39752980988\n",
      "\n",
      "2016-09-05 12:32:25.221609 Average loss at step 360000: 3.32744136614\n",
      "\n",
      "2016-09-05 12:34:59.337862 Average loss at step 380000: 3.25645669734\n",
      "\n",
      "2016-09-05 12:37:35.239105 Average loss at step 400000: 3.1933469844\n",
      "\n",
      "2016-09-05 12:40:10.950869 Average loss at step 420000: 3.13136686215\n",
      "\n",
      "2016-09-05 12:42:46.000375 Average loss at step 440000: 3.06903318096\n",
      "\n",
      "2016-09-05 12:45:21.976841 Average loss at step 460000: 3.0110805824\n",
      "\n",
      "2016-09-05 12:47:56.436845 Average loss at step 480000: 2.95440738236\n",
      "\n",
      "2016-09-05 12:50:30.982414 Average loss at step 500000: 2.90011828126\n",
      "\n",
      "2016-09-05 12:53:04.731711 Average loss at step 520000: 2.84664432836\n",
      "\n",
      "2016-09-05 12:55:37.722808 Average loss at step 540000: 2.79871280771\n",
      "\n",
      "2016-09-05 12:58:06.351839 Average loss at step 560000: 2.74764956292\n",
      "\n",
      "2016-09-05 13:00:39.171245 Average loss at step 580000: 2.70280137881\n",
      "\n",
      "2016-09-05 13:03:13.804424 Average loss at step 600000: 2.65870612479\n",
      "\n",
      "2016-09-05 13:05:48.497543 Average loss at step 620000: 2.61288885691\n",
      "\n",
      "2016-09-05 13:08:22.740471 Average loss at step 640000: 2.5750872882\n",
      "\n",
      "2016-09-05 13:10:58.223118 Average loss at step 660000: 2.53544139723\n",
      "\n",
      "2016-09-05 13:13:32.283305 Average loss at step 680000: 2.49877813692\n",
      "\n",
      "2016-09-05 13:16:06.441694 Average loss at step 700000: 2.46205975066\n",
      "\n",
      "2016-09-05 13:18:39.686877 Average loss at step 720000: 2.42816382361\n",
      "\n",
      "2016-09-05 13:21:11.222778 Average loss at step 740000: 2.3981684521\n",
      "\n",
      "2016-09-05 13:23:39.201129 Average loss at step 760000: 2.36552144612\n",
      "\n",
      "2016-09-05 13:26:11.529661 Average loss at step 780000: 2.33496375198\n",
      "\n",
      "2016-09-05 13:28:49.525364 Average loss at step 800000: 2.30365323246\n",
      "\n",
      "2016-09-05 13:31:28.278957 Average loss at step 820000: 2.27620327689\n",
      "\n",
      "2016-09-05 13:34:04.463953 Average loss at step 840000: 2.2510066406\n",
      "\n",
      "2016-09-05 13:36:38.724117 Average loss at step 860000: 2.22369579749\n",
      "\n",
      "2016-09-05 13:39:06.077047 Average loss at step 880000: 2.19775595987\n",
      "\n",
      "2016-09-05 13:41:35.560743 Average loss at step 900000: 2.17509993734\n",
      "\n",
      "2016-09-05 13:44:11.096981 Average loss at step 920000: 2.15159104256\n",
      "\n",
      "2016-09-05 13:46:46.535379 Average loss at step 940000: 2.13102777295\n",
      "\n",
      "2016-09-05 13:49:23.170553 Average loss at step 960000: 2.10952816984\n",
      "\n",
      "2016-09-05 13:51:59.822408 Average loss at step 980000: 2.08822153856\n",
      "\n",
      "2016-09-05 13:54:36.378290 Average loss at step 1000000: 2.07056601601\n",
      "\n",
      "2016-09-05 13:57:13.715455 Average loss at step 1020000: 2.05030861655\n",
      "\n",
      "2016-09-05 13:59:52.255835 Average loss at step 1040000: 2.0332569105\n",
      "\n",
      "2016-09-05 14:02:25.849851 Average loss at step 1060000: 2.01684544477\n",
      "\n",
      "2016-09-05 14:04:56.669786 Average loss at step 1080000: 1.99597831895\n",
      "\n",
      "2016-09-05 14:07:32.272938 Average loss at step 1100000: 1.98265342717\n",
      "\n",
      "2016-09-05 14:10:08.614364 Average loss at step 1120000: 1.96855207576\n",
      "\n",
      "2016-09-05 14:12:44.162101 Average loss at step 1140000: 1.95294607388\n",
      "\n",
      "2016-09-05 14:15:18.108475 Average loss at step 1160000: 1.93674065398\n",
      "\n",
      "2016-09-05 14:17:57.045489 Average loss at step 1180000: 1.92296380551\n",
      "\n",
      "2016-09-05 14:20:35.235316 Average loss at step 1200000: 1.910460771\n",
      "\n",
      "2016-09-05 14:23:14.621869 Average loss at step 1220000: 1.89772931435\n",
      "\n",
      "2016-09-05 14:25:52.054159 Average loss at step 1240000: 1.88376866762\n",
      "\n",
      "2016-09-05 14:28:30.387517 Average loss at step 1260000: 1.87112649586\n",
      "\n",
      "2016-09-05 14:31:11.555864 Average loss at step 1280000: 1.85994496685\n",
      "\n",
      "2016-09-05 14:33:55.254348 Average loss at step 1300000: 1.84935620795\n",
      "\n",
      "2016-09-05 14:36:34.850298 Average loss at step 1320000: 1.8348806493\n",
      "\n",
      "2016-09-05 14:39:12.362169 Average loss at step 1340000: 1.82503455459\n",
      "\n",
      "2016-09-05 14:41:48.708419 Average loss at step 1360000: 1.81714030227\n",
      "\n",
      "2016-09-05 14:44:26.855438 Average loss at step 1380000: 1.80602409877\n",
      "\n",
      "2016-09-05 14:47:03.420140 Average loss at step 1400000: 1.79664706691\n",
      "\n",
      "2016-09-05 14:49:43.211930 Average loss at step 1420000: 1.78571964551\n",
      "\n",
      "2016-09-05 14:52:42.291591 Average loss at step 1440000: 1.77661687908\n",
      "\n",
      "2016-09-05 14:55:36.136420 Average loss at step 1460000: 1.76473808278\n",
      "\n",
      "2016-09-05 14:58:33.230166 Average loss at step 1480000: 1.75632582462\n",
      "\n",
      "2016-09-05 15:01:32.449652 Average loss at step 1500000: 1.75015075865\n",
      "\n",
      "2016-09-05 15:04:30.480749 Average loss at step 1520000: 1.74248131431\n",
      "\n",
      "2016-09-05 15:07:28.485789 Average loss at step 1540000: 1.73347018621\n",
      "\n",
      "2016-09-05 15:10:26.767274 Average loss at step 1560000: 1.72630534249\n",
      "\n",
      "2016-09-05 15:13:25.314227 Average loss at step 1580000: 1.71795186825\n",
      "\n",
      "2016-09-05 15:16:17.395308 Average loss at step 1600000: 1.70733178431\n",
      "\n",
      "2016-09-05 15:19:09.914390 Average loss at step 1620000: 1.70334146456\n",
      "\n",
      "2016-09-05 15:22:06.189411 Average loss at step 1640000: 1.6956793918\n",
      "\n",
      "2016-09-05 15:25:03.260042 Average loss at step 1660000: 1.6912817057\n",
      "\n",
      "2016-09-05 15:28:00.635934 Average loss at step 1680000: 1.68224271235\n",
      "\n",
      "2016-09-05 15:30:58.205334 Average loss at step 1700000: 1.6767417254\n",
      "\n",
      "2016-09-05 15:33:55.745155 Average loss at step 1720000: 1.66997466018\n",
      "\n",
      "2016-09-05 15:36:52.345122 Average loss at step 1740000: 1.66401360094\n",
      "\n",
      "2016-09-05 15:39:46.539899 Average loss at step 1760000: 1.65807098626\n",
      "\n",
      "2016-09-05 15:43:01.468583 Average loss at step 1780000: 1.64895301214\n",
      "\n",
      "2016-09-05 15:46:25.508384 Average loss at step 1800000: 1.64677876883\n",
      "\n",
      "2016-09-05 15:49:47.334937 Average loss at step 1820000: 1.64115701088\n",
      "\n",
      "2016-09-05 15:53:12.638410 Average loss at step 1840000: 1.63538564464\n",
      "\n",
      "2016-09-05 15:56:37.693304 Average loss at step 1860000: 1.63239961932\n",
      "\n",
      "2016-09-05 16:00:01.640226 Average loss at step 1880000: 1.62565295244\n",
      "\n",
      "2016-09-05 16:03:27.356100 Average loss at step 1900000: 1.62060524326\n",
      "\n",
      "2016-09-05 16:06:51.469221 Average loss at step 1920000: 1.61422204198\n",
      "\n",
      "2016-09-05 16:10:15.274612 Average loss at step 1940000: 1.60895654455\n",
      "\n",
      "2016-09-05 16:13:32.455809 Average loss at step 1960000: 1.60535116242\n",
      "\n",
      "2016-09-05 16:16:59.690643 Average loss at step 1980000: 1.60035468262\n",
      "\n",
      "2016-09-05 16:20:20.896749 Average loss at step 2000000: 1.59684831792\n",
      "\n"
     ]
    }
   ],
   "source": [
    "batch_size = 128\n",
    "next_batch = item2vec.create_batch_generator(list_of_sessions_with_position_opening_indices, batch_size)\n",
    "x = item2vec.run(2000001, next_batch, 0.5, batch_size, 128, len(unique_position_opening_ids), 40)"
   ]
  },
  {
   "cell_type": "code",
   "execution_count": 11,
   "metadata": {
    "collapsed": false
   },
   "outputs": [
    {
     "data": {
      "text/plain": [
       "(77808, 40)"
      ]
     },
     "execution_count": 11,
     "metadata": {},
     "output_type": "execute_result"
    }
   ],
   "source": [
    "x.shape"
   ]
  },
  {
   "cell_type": "code",
   "execution_count": 12,
   "metadata": {
    "collapsed": true
   },
   "outputs": [],
   "source": [
    "with open(\"work/position_opening_vectors.csv\",\"w\") as f:\n",
    "    for i in range(x.shape[0]):\n",
    "        f.write(str(unique_position_opening_ids[i]) + \",\")\n",
    "        f.write(\",\".join(map(str,x[i])))\n",
    "        f.write(\"\\n\")"
   ]
  },
  {
   "cell_type": "code",
   "execution_count": null,
   "metadata": {
    "collapsed": true
   },
   "outputs": [],
   "source": []
  }
 ],
 "metadata": {
  "kernelspec": {
   "display_name": "Python 2",
   "language": "python",
   "name": "python2"
  },
  "language_info": {
   "codemirror_mode": {
    "name": "ipython",
    "version": 2
   },
   "file_extension": ".py",
   "mimetype": "text/x-python",
   "name": "python",
   "nbconvert_exporter": "python",
   "pygments_lexer": "ipython2",
   "version": "2.7.12"
  }
 },
 "nbformat": 4,
 "nbformat_minor": 0
}
